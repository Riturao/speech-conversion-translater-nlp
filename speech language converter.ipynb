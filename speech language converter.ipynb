{
 "cells": [
  {
   "cell_type": "code",
   "execution_count": 1,
   "metadata": {},
   "outputs": [],
   "source": [
    "# # Requirements\n",
    "# # python 3.6\n",
    "# pip install gTTS\n",
    "# pip install googletrans\n",
    "# pip install pyAudio\n",
    "# pip install speechrecognition\n",
    "# !apt install libasound2-dev portaudio19-dev libportaudio2 libportaudiocpp0 ffmpeg  --------> not sure about this\n",
    "# pip install google-speech\n",
    "# pip install pyttsx3\n",
    "#pip install playsound\n",
    "#pip install ffmpeg\n",
    "\n"
   ]
  },
  {
   "cell_type": "code",
   "execution_count": 2,
   "metadata": {},
   "outputs": [
    {
     "name": "stdout",
     "output_type": "stream",
     "text": [
      "Refer them for input and output Language codes\n",
      "  ---------------------------------------------------------\n",
      "{'af': 'afrikaans', 'sq': 'albanian', 'am': 'amharic', 'ar': 'arabic', 'hy': 'armenian', 'az': 'azerbaijani', 'eu': 'basque', 'be': 'belarusian', 'bn': 'bengali', 'bs': 'bosnian', 'bg': 'bulgarian', 'ca': 'catalan', 'ceb': 'cebuano', 'ny': 'chichewa', 'zh-cn': 'chinese (simplified)', 'zh-tw': 'chinese (traditional)', 'co': 'corsican', 'hr': 'croatian', 'cs': 'czech', 'da': 'danish', 'nl': 'dutch', 'en': 'english', 'eo': 'esperanto', 'et': 'estonian', 'tl': 'filipino', 'fi': 'finnish', 'fr': 'french', 'fy': 'frisian', 'gl': 'galician', 'ka': 'georgian', 'de': 'german', 'el': 'greek', 'gu': 'gujarati', 'ht': 'haitian creole', 'ha': 'hausa', 'haw': 'hawaiian', 'iw': 'hebrew', 'hi': 'hindi', 'hmn': 'hmong', 'hu': 'hungarian', 'is': 'icelandic', 'ig': 'igbo', 'id': 'indonesian', 'ga': 'irish', 'it': 'italian', 'ja': 'japanese', 'jw': 'javanese', 'kn': 'kannada', 'kk': 'kazakh', 'km': 'khmer', 'ko': 'korean', 'ku': 'kurdish (kurmanji)', 'ky': 'kyrgyz', 'lo': 'lao', 'la': 'latin', 'lv': 'latvian', 'lt': 'lithuanian', 'lb': 'luxembourgish', 'mk': 'macedonian', 'mg': 'malagasy', 'ms': 'malay', 'ml': 'malayalam', 'mt': 'maltese', 'mi': 'maori', 'mr': 'marathi', 'mn': 'mongolian', 'my': 'myanmar (burmese)', 'ne': 'nepali', 'no': 'norwegian', 'ps': 'pashto', 'fa': 'persian', 'pl': 'polish', 'pt': 'portuguese', 'pa': 'punjabi', 'ro': 'romanian', 'ru': 'russian', 'sm': 'samoan', 'gd': 'scots gaelic', 'sr': 'serbian', 'st': 'sesotho', 'sn': 'shona', 'sd': 'sindhi', 'si': 'sinhala', 'sk': 'slovak', 'sl': 'slovenian', 'so': 'somali', 'es': 'spanish', 'su': 'sundanese', 'sw': 'swahili', 'sv': 'swedish', 'tg': 'tajik', 'ta': 'tamil', 'te': 'telugu', 'th': 'thai', 'tr': 'turkish', 'uk': 'ukrainian', 'ur': 'urdu', 'uz': 'uzbek', 'vi': 'vietnamese', 'cy': 'welsh', 'xh': 'xhosa', 'yi': 'yiddish', 'yo': 'yoruba', 'zu': 'zulu', 'fil': 'Filipino', 'he': 'Hebrew'}\n"
     ]
    }
   ],
   "source": [
    "import googletrans\n",
    "print(\"Refer them for input and output Language codes\")\n",
    "print(\"  ---------------------------------------------------------\")\n",
    "print(googletrans.LANGUAGES)"
   ]
  },
  {
   "cell_type": "code",
   "execution_count": 3,
   "metadata": {},
   "outputs": [],
   "source": [
    "from googletrans import Translator"
   ]
  },
  {
   "cell_type": "code",
   "execution_count": 4,
   "metadata": {},
   "outputs": [],
   "source": [
    "translator = Translator()\n"
   ]
  },
  {
   "cell_type": "code",
   "execution_count": 10,
   "metadata": {},
   "outputs": [
    {
     "name": "stdout",
     "output_type": "stream",
     "text": [
      "Enter input language code : mr\n",
      "mr\n",
      "Enter output language code : te\n",
      "te\n"
     ]
    }
   ],
   "source": [
    "inputlang = input(\"Enter input language code : \") \n",
    "print(inputlang) \n",
    "outputlang=input(\"Enter output language code : \") \n",
    "print(outputlang)"
   ]
  },
  {
   "cell_type": "code",
   "execution_count": 12,
   "metadata": {},
   "outputs": [
    {
     "name": "stdout",
     "output_type": "stream",
     "text": [
      "Please say something\n",
      "Recognizing Now .... \n",
      "You have said \n",
      "तुम्ही कसा आहात\n",
      "Audio Recorded Successfully \n",
      " \n",
      "we have recognized your voice\n",
      "Tumi Kasa Aahat\n",
      "mr\n",
      "te\n",
      "తుమీ Kasa ఆహట్\n"
     ]
    }
   ],
   "source": [
    "\n",
    "\n",
    "import speech_recognition as sr\n",
    "from gtts import gTTS \n",
    "import os\n",
    "from playsound import playsound\n",
    "\n",
    "\n",
    "def main():\n",
    "\n",
    "    r = sr.Recognizer()\n",
    "\n",
    "    with sr.Microphone() as source:\n",
    "        r.adjust_for_ambient_noise(source)\n",
    "\n",
    "        print(\"Please say something\")\n",
    "\n",
    "        audio = r.listen(source)\n",
    "\n",
    "        print(\"Recognizing Now .... \")\n",
    "\n",
    "\n",
    "        # recognize speech using google\n",
    "\n",
    "        try:\n",
    "            #print(\"You have said \\n\" + r.recognize_google(audio,language=\"hi\"))\n",
    "            print(\"You have said \\n\" + r.recognize_google(audio,language=inputlang))\n",
    "            print(\"Audio Recorded Successfully \\n \")\n",
    "       \n",
    "            newtext1=r.recognize_google(audio)\n",
    "            print(\"we have recognized your voice\")       \n",
    "            print(newtext1)\n",
    "            \n",
    "            #result = translator.translate(newtext1 , src='en', dest='mr')\n",
    "            result = translator.translate(newtext1 , src=inputlang, dest=outputlang)\n",
    "            print(result.src)\n",
    "            print(result.dest)\n",
    "            print(result.text)\n",
    "            mytext=result.text\n",
    "            #language = 'mr'\n",
    "            language = outputlang\n",
    "            myobj = gTTS(text=mytext, lang=language, slow=False)\n",
    "            myobj.save(\"welcome10c.mp3\") \n",
    "\n",
    "            # Playing the converted file \n",
    "            os.system(\"mpg321 welcome1.mp3\") \n",
    "            \n",
    "            \n",
    "            playsound('welcome10c.mp3')\n",
    "            os.remove('welcome10c.mp3')\n",
    "\n",
    "\n",
    "        except Exception as e:\n",
    "            print(\"Error :  \" + str(e))\n",
    "            \n",
    "            \n",
    "            # Playing the converted file \n",
    "            os.system(\"mpg321 welcome1.mp3\") \n",
    "            \n",
    "            \n",
    "            playsound('welcome10c.mp3')\n",
    "            os.remove('welcome10c.mp3')\n",
    "\n",
    "\n",
    "\n",
    "\n",
    "        # write audio\n",
    "\n",
    "        with open(\"check.mp3\", \"wb\") as f:\n",
    "            f.write(audio.get_wav_data())\n",
    "        \n",
    "    \n",
    "\n",
    "\n",
    "if __name__ == \"__main__\":\n",
    "    main()\n",
    "    \n",
    "    \n",
    "    "
   ]
  },
  {
   "cell_type": "code",
   "execution_count": 8,
   "metadata": {},
   "outputs": [],
   "source": [
    "from googletrans import Translator\n",
    "translator = Translator()"
   ]
  },
  {
   "cell_type": "code",
   "execution_count": 9,
   "metadata": {},
   "outputs": [
    {
     "name": "stdout",
     "output_type": "stream",
     "text": [
      "Enter input language code : te\n",
      "te\n",
      "Enter output language code : hi\n",
      "hi\n",
      "how are you\n",
      "te\n",
      "hi\n",
      "कैसे की गिरफ्तारी यू\n"
     ]
    }
   ],
   "source": [
    "#from existing \n",
    "inputlang = input(\"Enter input language code : \") \n",
    "print(inputlang) \n",
    "outputlang=input(\"Enter output language code : \") \n",
    "print(outputlang)\n",
    "\n",
    "\n",
    "\n",
    "import speech_recognition as sr\n",
    "from gtts import gTTS \n",
    "import os\n",
    "from playsound import playsound\n",
    "\n",
    "\n",
    "def main():\n",
    "    filename = \"recorded2.wav\"\n",
    "    r = sr.Recognizer()\n",
    "    with sr.AudioFile(filename) as source:\n",
    "        # listen for the data (load audio to memory)\n",
    "        audio_data = r.record(source)\n",
    "         # recognize (convert from speech to text)\n",
    "        text = r.recognize_google(audio_data)\n",
    "        print(text)\n",
    "        #result = translator.translate(text , src='hi', dest='mr')\n",
    "        result = translator.translate(text , src=inputlang, dest=outputlang)\n",
    "        print(result.src)\n",
    "        print(result.dest)\n",
    "        print(result.text)\n",
    "        mytext=result.text\n",
    "        #language = 'mr'\n",
    "        language = outputlang\n",
    "        myobj = gTTS(text=mytext, lang=language, slow=False)\n",
    "        myobj.save(\"welcome10d.mp3\") \n",
    "\n",
    "            # Playing the converted file \n",
    "        os.system(\"mpg321 welcome1d.mp3\") \n",
    "            \n",
    "            \n",
    "        playsound('welcome10d.mp3')\n",
    "        os.remove('welcome10d.mp3')\n",
    "\n",
    "\n",
    "\n",
    "\n",
    "        # write audio\n",
    "\n",
    "        #with open(\"recorded1.wav\", \"wb\") as f:\n",
    "           # f.write(audio.get_wav_data())\n",
    "        \n",
    "    \n",
    "\n",
    "\n",
    "if __name__ == \"__main__\":\n",
    "    main()\n",
    "    \n",
    "    \n",
    "    "
   ]
  },
  {
   "cell_type": "code",
   "execution_count": null,
   "metadata": {},
   "outputs": [],
   "source": [
    "\n"
   ]
  },
  {
   "cell_type": "code",
   "execution_count": null,
   "metadata": {},
   "outputs": [],
   "source": []
  },
  {
   "cell_type": "code",
   "execution_count": null,
   "metadata": {},
   "outputs": [],
   "source": []
  },
  {
   "cell_type": "code",
   "execution_count": null,
   "metadata": {},
   "outputs": [],
   "source": []
  }
 ],
 "metadata": {
  "kernelspec": {
   "display_name": "Python 3",
   "language": "python",
   "name": "python3"
  },
  "language_info": {
   "codemirror_mode": {
    "name": "ipython",
    "version": 3
   },
   "file_extension": ".py",
   "mimetype": "text/x-python",
   "name": "python",
   "nbconvert_exporter": "python",
   "pygments_lexer": "ipython3",
   "version": "3.6.10"
  }
 },
 "nbformat": 4,
 "nbformat_minor": 4
}
